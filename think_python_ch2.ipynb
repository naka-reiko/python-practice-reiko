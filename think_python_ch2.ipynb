{
 "cells": [
  {
   "cell_type": "code",
   "execution_count": 1,
   "id": "e5c3752f",
   "metadata": {},
   "outputs": [
    {
     "name": "stdout",
     "output_type": "stream",
     "text": [
      "2562\n"
     ]
    }
   ],
   "source": [
    "# number of seconds in 42:42\n",
    "seconds = 42 * 60 + 42\n",
    "print(seconds)"
   ]
  },
  {
   "cell_type": "code",
   "execution_count": 2,
   "id": "660e832e",
   "metadata": {},
   "outputs": [
    {
     "name": "stdout",
     "output_type": "stream",
     "text": [
      "Exception reporting mode: Verbose\n"
     ]
    }
   ],
   "source": [
    "# this cell tells Jupyter to provide detailed debugging information\n",
    "# when a runtime error occurs.\n",
    "# Run it before working on the exercises\n",
    "\n",
    "%xmode Verbose\n"
   ]
  },
  {
   "cell_type": "code",
   "execution_count": 3,
   "id": "a54355f4",
   "metadata": {},
   "outputs": [
    {
     "ename": "SyntaxError",
     "evalue": "cannot assign to literal here. Maybe you meant '==' instead of '='? (3485203279.py, line 2)",
     "output_type": "error",
     "traceback": [
      "\u001b[1;36m  Cell \u001b[1;32mIn[3], line 2\u001b[1;36m\u001b[0m\n\u001b[1;33m    17 = n\u001b[0m\n\u001b[1;37m    ^\u001b[0m\n\u001b[1;31mSyntaxError\u001b[0m\u001b[1;31m:\u001b[0m cannot assign to literal here. Maybe you meant '==' instead of '='?\n"
     ]
    }
   ],
   "source": [
    "# I am intentionally making errors\n",
    "17 = n\n"
   ]
  },
  {
   "cell_type": "code",
   "execution_count": 4,
   "id": "22375a5d",
   "metadata": {},
   "outputs": [],
   "source": [
    "X = Y = 1"
   ]
  },
  {
   "cell_type": "code",
   "execution_count": 5,
   "id": "abfffa2a",
   "metadata": {},
   "outputs": [
    {
     "ename": "ModuleNotFoundError",
     "evalue": "No module named 'maath'",
     "output_type": "error",
     "traceback": [
      "\u001b[1;31m---------------------------------------------------------------------------\u001b[0m",
      "\u001b[1;31mModuleNotFoundError\u001b[0m                       Traceback (most recent call last)",
      "Cell \u001b[1;32mIn[5], line 1\u001b[0m\n\u001b[1;32m----> 1\u001b[0m \u001b[38;5;28;01mimport\u001b[39;00m\u001b[38;5;250m \u001b[39m\u001b[38;5;21;01mmaath\u001b[39;00m\n",
      "\u001b[1;31mModuleNotFoundError\u001b[0m: No module named 'maath'"
     ]
    }
   ],
   "source": [
    "import maath\n"
   ]
  },
  {
   "cell_type": "markdown",
   "id": "c8093ea1",
   "metadata": {},
   "source": [
    "## Exercise Part 1"
   ]
  },
  {
   "cell_type": "code",
   "execution_count": null,
   "id": "58b2f202",
   "metadata": {},
   "outputs": [
    {
     "name": "stdout",
     "output_type": "stream",
     "text": [
      "523.5987755982989\n"
     ]
    }
   ],
   "source": [
    "import math\n",
    "radius = 5 # radius is in centimeters\n",
    "volume = 4/3 * math.pi * radius**3 # volume is in cubic centimeters\n",
    "print(volume)\n",
    "\n"
   ]
  },
  {
   "cell_type": "markdown",
   "id": "797a8939",
   "metadata": {},
   "source": [
    "## Exercise part 2"
   ]
  },
  {
   "cell_type": "code",
   "execution_count": 8,
   "id": "da3d8161",
   "metadata": {},
   "outputs": [
    {
     "data": {
      "text/plain": [
       "1.0"
      ]
     },
     "execution_count": 8,
     "metadata": {},
     "output_type": "execute_result"
    }
   ],
   "source": [
    "\n",
    "x = 42\n",
    "(math.cos(x))**2 + (math.sin(x))**2\n"
   ]
  },
  {
   "cell_type": "code",
   "execution_count": 15,
   "id": "e23219b3",
   "metadata": {},
   "outputs": [
    {
     "name": "stdout",
     "output_type": "stream",
     "text": [
      "7.3890560989306495 7.3890560989306495 7.38905609893065\n"
     ]
    }
   ],
   "source": [
    "# math.e can represent the base of a natural logarithm\n",
    "a = math.e ** 2\n",
    "b = math.pow(math.e, 2)\n",
    "c = math.exp(2)\n",
    "print(a, b, c)\n"
   ]
  }
 ],
 "metadata": {
  "kernelspec": {
   "display_name": "base",
   "language": "python",
   "name": "python3"
  },
  "language_info": {
   "codemirror_mode": {
    "name": "ipython",
    "version": 3
   },
   "file_extension": ".py",
   "mimetype": "text/x-python",
   "name": "python",
   "nbconvert_exporter": "python",
   "pygments_lexer": "ipython3",
   "version": "3.13.5"
  }
 },
 "nbformat": 4,
 "nbformat_minor": 5
}
